{
  "nbformat": 4,
  "nbformat_minor": 0,
  "metadata": {
    "colab": {
      "provenance": []
    },
    "kernelspec": {
      "name": "python3",
      "display_name": "Python 3"
    },
    "language_info": {
      "name": "python"
    }
  },
  "cells": [
    {
      "cell_type": "code",
      "execution_count": 1,
      "metadata": {
        "id": "zeP8Ze_S0Fbs"
      },
      "outputs": [],
      "source": [
        "import numpy as np\n",
        "from sklearn.datasets import make_blobs\n",
        "import matplotlib.pyplot as plt\n",
        "\n",
        "class SVM:\n",
        "    def __init__(self, learning_rate=1e-3, lambda_param=1e-2, n_iters=1000):\n",
        "        self.learning_rate = learning_rate\n",
        "        self.lambda_param = lambda_param\n",
        "        self.n_iters = n_iters\n",
        "        self.w = None\n",
        "        self.b = None\n",
        "\n",
        "\n",
        "    def _init_weights_bias(self, X):\n",
        "        n_features = X.shape[1]\n",
        "        self.w = np.zeros(n_features)\n",
        "        self.b = 0\n",
        "\n",
        "    def _get_cls_map(self, y):\n",
        "        return np.where(y <= 0, -1, 1)\n",
        "\n",
        "    def _satisfy_constraint(self, x, y):\n",
        "        condition = y * (np.dot(x, self.w) - self.b) >= 1\n",
        "        return condition\n"
      ]
    }
  ]
}